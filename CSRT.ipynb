{
 "cells": [
  {
   "cell_type": "code",
   "execution_count": 4,
   "metadata": {},
   "outputs": [],
   "source": [
    "import cv2\n",
    "v = cv2.VideoCapture('clip_3.mp4')\n"
   ]
  },
  {
   "cell_type": "code",
   "execution_count": 5,
   "metadata": {},
   "outputs": [],
   "source": [
    "trackers = cv2.legacy.MultiTracker_create()\n",
    "ret, frame = v.read()\n",
    "\n",
    "k = 7\n",
    "for i in range(k):\n",
    "    cv2.imshow('Frame', frame)\n",
    "    bbi=cv2.selectROI('Frame', frame)\n",
    "    tracker_i = cv2.legacy.TrackerCSRT_create()\n",
    "    trackers.add(tracker_i, frame, bbi)\n"
   ]
  },
  {
   "cell_type": "code",
   "execution_count": 6,
   "metadata": {},
   "outputs": [],
   "source": [
    "height, width = frame.shape[:2]\n",
    "fourcc = cv2.VideoWriter_fourcc(*'XVID')  # Codec for the output video\n",
    "output_video = cv2.VideoWriter('output_video.mp4', fourcc, 30.0, (width, height))\n",
    "\n",
    "while True:\n",
    "    ret, frame = v.read()\n",
    "    if not ret:\n",
    "        break\n",
    "\n",
    "    # Update trackers\n",
    "    (success, boxes) = trackers.update(frame)\n",
    "\n",
    "    # Loop through the boxes and draw them\n",
    "    for i, box in enumerate(boxes):\n",
    "        (x, y, w, h) = [int(a) for a in box]\n",
    "\n",
    "        # Check if the box is within the frame\n",
    "        if x < 0 or y < 0 or x + w > width or y + h > height:\n",
    "            continue\n",
    "\n",
    "        # Draw the bounding box\n",
    "        cv2.rectangle(frame, (x, y), (x + w, y + h), (100, 255, 0), 2)\n",
    "\n",
    "    # Display the current frame\n",
    "    cv2.imshow('Frame', frame)\n",
    "\n",
    "    # Write the frame to the output video\n",
    "    output_video.write(frame)\n",
    "\n",
    "    # Wait for a key press to break the loop\n",
    "    key = cv2.waitKey(5) & 0xFF\n",
    "    if key == ord('q'):\n",
    "        break\n",
    "\n",
    "# Release the video capture and writer objects\n",
    "v.release()\n",
    "output_video.release()\n",
    "\n",
    "# Close any OpenCV windows\n",
    "cv2.destroyAllWindows()"
   ]
  }
 ],
 "metadata": {
  "kernelspec": {
   "display_name": "Python 3",
   "language": "python",
   "name": "python3"
  },
  "language_info": {
   "codemirror_mode": {
    "name": "ipython",
    "version": 3
   },
   "file_extension": ".py",
   "mimetype": "text/x-python",
   "name": "python",
   "nbconvert_exporter": "python",
   "pygments_lexer": "ipython3",
   "version": "3.12.0"
  }
 },
 "nbformat": 4,
 "nbformat_minor": 2
}
